{
 "cells": [
  {
   "cell_type": "code",
   "execution_count": null,
   "id": "c3369b45-5070-47d4-8457-e8bdc3911b75",
   "metadata": {},
   "outputs": [],
   "source": []
  },
  {
   "cell_type": "code",
   "execution_count": 1,
   "id": "97ca3e08-6261-4390-afe3-9e368e2018b4",
   "metadata": {},
   "outputs": [
    {
     "data": {
      "text/html": [
       "<html><body><pre>ans = Inf</pre></body></html>"
      ],
      "text/plain": [
       "ans = Inf"
      ]
     },
     "execution_count": 1,
     "metadata": {},
     "output_type": "execute_result"
    }
   ],
   "source": [
    "1/0"
   ]
  },
  {
   "cell_type": "code",
   "execution_count": 2,
   "id": "578652a2-76ab-466e-a553-26db8d34b34a",
   "metadata": {},
   "outputs": [
    {
     "data": {
      "text/html": [
       "<html><body><pre>ans = -Inf</pre></body></html>"
      ],
      "text/plain": [
       "ans = -Inf"
      ]
     },
     "execution_count": 2,
     "metadata": {},
     "output_type": "execute_result"
    }
   ],
   "source": [
    "-1/0"
   ]
  },
  {
   "cell_type": "code",
   "execution_count": null,
   "id": "cd4ec233-1566-4fef-bd34-0d6786cbe62a",
   "metadata": {},
   "outputs": [],
   "source": []
  }
 ],
 "metadata": {
  "kernelspec": {
   "display_name": "MATLAB Kernel",
   "language": "matlab",
   "name": "jupyter_matlab_kernel"
  },
  "language_info": {
   "file_extension": ".m",
   "mimetype": "text/x-matlab",
   "name": "matlab"
  }
 },
 "nbformat": 4,
 "nbformat_minor": 5
}
