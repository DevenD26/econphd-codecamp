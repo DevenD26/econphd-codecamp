{
 "cells": [
  {
   "cell_type": "markdown",
   "id": "0e26beff-c77e-451b-9c01-b589a065871f",
   "metadata": {},
   "source": [
    "# IN PROGRESS\n",
    "\n",
    "(incomplete)"
   ]
  },
  {
   "cell_type": "code",
   "execution_count": 23,
   "id": "13f37cc4-1f9f-4065-b0c9-102b003c259e",
   "metadata": {},
   "outputs": [],
   "source": [
    "x_bool = True"
   ]
  },
  {
   "cell_type": "markdown",
   "id": "eef059f7-82b5-456b-8028-b4db320f8c26",
   "metadata": {},
   "source": [
    "## Numeric data types\n",
    "\n",
    "The 3 most important numeric data types in Python are:\n",
    "\n",
    "  1. **Integers** `int`. Same as in math--these are the counting numbers, plus negatives, plus zero. They are perfectly precise--they store exactly the number that was input to them.\n",
    "\n",
    "  2. **Floating-point numbers** `float`. Can be used to represent any real number. Default data type for most math operations. They are **imprecise**--they store a very close approximation to the number that was input. This imprecision can lead to errors sometimes when dealing with very small numbers. It also makes floats unsuitable for storing ID or serial numbers.\n",
    "\n",
    "  3. **Booleans** `bool`. True or false, `True` = 1 and `False` = 0.\n",
    "\n",
    "  4. **Complex** `complex`. An ordered pair of two floats--the real and the imaginary part. Python will **not** automatically convert simple floats to complex if, for example, you take the square root of -1. Because floats are the default numerical data type, if you need to work with complex results, you will need to explicitly create complex variables."
   ]
  },
  {
   "cell_type": "markdown",
   "id": "2ff04fc2-a70a-4e21-86d6-734fa4c64d15",
   "metadata": {},
   "source": [
    "## Numeric data types\n",
    "\n",
    "The 3 most important numeric data types in Python are\n",
    " 1. **Integers** `int`. Integers are same as in math--counting numbers plus their additive inverses (negatives) plus 0.\n",
    "\n",
    "    In some programming languages, it is necessary to keep track of integer data types of different sizes, each of which has its own maximum and min imum value.\n",
    "\n",
    "    For example, an 8-bit unsigned integer has a minumum value of 0 and a maximum value of 255. An 8-bit signed integer has a minumum value of -128 and a maximum value of 127.\n",
    "\n",
    "    In Python, the default integer data type is signed and accommodates very, very large numbers (from -2^63 to 2^63 - 1). It is almost never necessary to think about or plan for hitting the maximum value.\n",
    "\n",
    "    Integer values are always perfectly *precise*: they store exactly the value that was fed into them. As we will see, the next data type, \"floats\", does not share this characteristic.\n",
    "    \n",
    " 2. **Floating-point numbers** `float`. The floating-point data type is used to represent any positive or negative number, integer or not. It is the default numeric data type for most mathematical operations. In Python 3, if a float is involved in an arithmetic operation with a variable of any other data type (such as an integer), the result will be a float.\n",
    "\n",
    "    The default float type in Python can accommodate very, very large numbers. Just like with integers, it's rarely necessary to think about this limit.\n",
    "\n",
    "    The default float type in Python also can take two special types of values: infinity (positive or negative), and \"not a number\".\n",
    "\n",
    "      - Infinity `inf` can be denoted as `float('inf')`. As in math, this represents the limit of a process that produces numbers growing larger with no bound, and is larger than any finite value. The converse of all this applies to negative infinity.\n",
    "      - \"Not a number\" `nan` can be denoted as `float('nan')`. This is applied to cases where the result of an arithmetic operation is not defined, for example 0/0.\n",
    "   \n",
    "    Unlike integers, floats are **not** perfectly precise--the number that is actually stored is always just a tiny bit off from the value that was input. Python smooths this over so that 99% of the time you can just use floats as if they were perfectly precise: for example, even though it does **not** store exactly the value `2`, Python will hide the very tiny difference from you and simply output `2` when you ask for the value.\n",
    "\n",
    "    The imprecision of floating point numbers might become a problem when dealing with numbers that require many decimal digits and where all or most of those digits are important for the result. This most often happens in practice when dealing with very small numbers.\n",
    "\n",
    "    It would also be a problem if you tried to store an ID or serial number as a float--in general, this should never be done! ID or serial numbers should be stored as integers or, better yet, as strings.\n",
    "        \n",
    " 3. **Booleans** `bool`. True or False. If involved in a mathematical operation, True is the same as a 1 and False is the same as a 0. If it is involved in a mathematical operation with an integer or a float the result will be an integer or a float.\n",
    "\n",
    " 4. **Complex** `complex`. Complex numbers are stored as a compound of two floats--the real and the imaginary part.\n",
    "\n",
    "    In Python, floats will **not** automatically convert to complex numbers if the result of an operation is complex. If you calculate the square root of a negative float, for example, an error or \"not a number\" will be returned. In order to return the complex result of this operation, you would have to define the original variable as a complex number from the start.\n",
    "\n"
   ]
  },
  {
   "cell_type": "code",
   "execution_count": 37,
   "id": "82e45ce9-ab4b-42d4-8087-6104d9f59dd0",
   "metadata": {},
   "outputs": [
    {
     "name": "stdout",
     "output_type": "stream",
     "text": [
      "2\n",
      "<class 'int'>\n"
     ]
    }
   ],
   "source": [
    "x_integer = 2\n",
    "\n",
    "print(x_integer)\n",
    "print(type(x_integer))\n",
    "\n"
   ]
  },
  {
   "cell_type": "code",
   "execution_count": 36,
   "id": "bc7eef03-17d5-462f-97a7-3214f0b547a4",
   "metadata": {},
   "outputs": [
    {
     "name": "stdout",
     "output_type": "stream",
     "text": [
      "2.0\n",
      "<class 'float'>\n"
     ]
    }
   ],
   "source": [
    "\n",
    "x_float = 2.\n",
    "\n",
    "print(x_float)\n",
    "print(type(x_float))\n"
   ]
  },
  {
   "cell_type": "code",
   "execution_count": 34,
   "id": "a8c832fc-c733-4c5f-a5ce-99f032e3ffe4",
   "metadata": {},
   "outputs": [
    {
     "name": "stdout",
     "output_type": "stream",
     "text": [
      "True\n",
      "<class 'bool'>\n"
     ]
    }
   ],
   "source": [
    "\n",
    "x_bool = True\n",
    "\n",
    "print(x_bool)\n",
    "print(type(x_bool))"
   ]
  },
  {
   "cell_type": "code",
   "execution_count": 38,
   "id": "72b03e9f-162f-40ed-8833-952874840832",
   "metadata": {},
   "outputs": [
    {
     "name": "stdout",
     "output_type": "stream",
     "text": [
      "4.0\n",
      "<class 'float'>\n"
     ]
    }
   ],
   "source": [
    "x_integer_times_float = x_integer*x_float\n",
    "\n",
    "print(x_integer_times_float)\n",
    "print(type(x_integer_times_float))"
   ]
  },
  {
   "cell_type": "code",
   "execution_count": 39,
   "id": "eaeba86f-18f5-44d9-9432-285fa9a65565",
   "metadata": {},
   "outputs": [
    {
     "name": "stdout",
     "output_type": "stream",
     "text": [
      "2.0\n",
      "<class 'float'>\n"
     ]
    }
   ],
   "source": [
    "x_bool_times_float = x_bool*x_float\n",
    "\n",
    "print(x_bool_times_float)\n",
    "print(type(x_bool_times_float))"
   ]
  },
  {
   "cell_type": "code",
   "execution_count": 49,
   "id": "13cad697-1e92-4459-a1f1-a54bd396ff15",
   "metadata": {},
   "outputs": [
    {
     "name": "stdout",
     "output_type": "stream",
     "text": [
      "(2+2j)\n",
      "<class 'complex'>\n"
     ]
    }
   ],
   "source": [
    "x_complex = 2. + 2.j\n",
    "\n",
    "print(x_complex)\n",
    "print(type(x_complex))"
   ]
  },
  {
   "cell_type": "code",
   "execution_count": null,
   "id": "8cf55d95-18f3-4cbf-b1ac-cbb1d1088881",
   "metadata": {},
   "outputs": [],
   "source": []
  },
  {
   "cell_type": "code",
   "execution_count": 5,
   "id": "05ef23f7-df57-488a-8a62-a59ffc873b48",
   "metadata": {},
   "outputs": [
    {
     "data": {
      "text/plain": [
       "4"
      ]
     },
     "execution_count": 5,
     "metadata": {},
     "output_type": "execute_result"
    }
   ],
   "source": [
    "x_integer*x_integer"
   ]
  },
  {
   "cell_type": "code",
   "execution_count": 7,
   "id": "5813e90b-8598-47b8-8310-11c8ab567247",
   "metadata": {},
   "outputs": [
    {
     "data": {
      "text/plain": [
       "28"
      ]
     },
     "execution_count": 7,
     "metadata": {},
     "output_type": "execute_result"
    }
   ],
   "source": [
    "import sys\n",
    "\n",
    "sys.getsizeof(x_integer)"
   ]
  },
  {
   "cell_type": "code",
   "execution_count": 8,
   "id": "bd7f6fbf-f5fa-4f3d-a63e-74aa2263a759",
   "metadata": {},
   "outputs": [
    {
     "data": {
      "text/plain": [
       "24"
      ]
     },
     "execution_count": 8,
     "metadata": {},
     "output_type": "execute_result"
    }
   ],
   "source": [
    "sys.getsizeof(x_float)"
   ]
  },
  {
   "cell_type": "code",
   "execution_count": 9,
   "id": "b02b1b6a-cae5-4ab0-af7c-33b15fbe2c52",
   "metadata": {},
   "outputs": [
    {
     "data": {
      "text/plain": [
       "44"
      ]
     },
     "execution_count": 9,
     "metadata": {},
     "output_type": "execute_result"
    }
   ],
   "source": [
    "sys.getsizeof(x_string)"
   ]
  },
  {
   "cell_type": "code",
   "execution_count": 10,
   "id": "b1efa8e1-ef50-4c3f-a500-42b16aaad879",
   "metadata": {},
   "outputs": [
    {
     "ename": "NameError",
     "evalue": "name 'int8' is not defined",
     "output_type": "error",
     "traceback": [
      "\u001b[1;31m---------------------------------------------------------------------------\u001b[0m",
      "\u001b[1;31mNameError\u001b[0m                                 Traceback (most recent call last)",
      "Cell \u001b[1;32mIn[10], line 1\u001b[0m\n\u001b[1;32m----> 1\u001b[0m x_integer \u001b[38;5;241m=\u001b[39m \u001b[43mint8\u001b[49m(\u001b[38;5;241m2\u001b[39m)\n",
      "\u001b[1;31mNameError\u001b[0m: name 'int8' is not defined"
     ]
    }
   ],
   "source": [
    "x_integer = int8(2)"
   ]
  },
  {
   "cell_type": "code",
   "execution_count": 19,
   "id": "9147a155-6a0e-4600-85b4-8011519f3dc3",
   "metadata": {},
   "outputs": [],
   "source": [
    "import numpy as np\n",
    "\n",
    "x_8bit = np.int64(2)"
   ]
  },
  {
   "cell_type": "code",
   "execution_count": 20,
   "id": "4fb69e66-ca57-4f6c-a123-2db5a976f1e7",
   "metadata": {},
   "outputs": [
    {
     "data": {
      "text/plain": [
       "32"
      ]
     },
     "execution_count": 20,
     "metadata": {},
     "output_type": "execute_result"
    }
   ],
   "source": [
    "sys.getsizeof(x_8bit)"
   ]
  },
  {
   "cell_type": "code",
   "execution_count": 21,
   "id": "64cb3462-2553-4ea6-8d0d-330dfc83709b",
   "metadata": {},
   "outputs": [],
   "source": [
    "x_bool = True"
   ]
  },
  {
   "cell_type": "code",
   "execution_count": 22,
   "id": "5c0a4c11-7d55-44b6-9266-a1e49030cce0",
   "metadata": {},
   "outputs": [
    {
     "data": {
      "text/plain": [
       "28"
      ]
     },
     "execution_count": 22,
     "metadata": {},
     "output_type": "execute_result"
    }
   ],
   "source": [
    "sys.getsizeof(x_bool)"
   ]
  },
  {
   "cell_type": "code",
   "execution_count": 54,
   "id": "e719d6a6-cfe8-4a7e-a4f0-35b4820890fb",
   "metadata": {},
   "outputs": [],
   "source": [
    "x_test = -1."
   ]
  },
  {
   "cell_type": "code",
   "execution_count": 56,
   "id": "6cd5acfc-7050-47a5-999d-e1b2bfb7a3b5",
   "metadata": {},
   "outputs": [
    {
     "data": {
      "text/plain": [
       "-1.0"
      ]
     },
     "execution_count": 56,
     "metadata": {},
     "output_type": "execute_result"
    }
   ],
   "source": [
    "x_test"
   ]
  },
  {
   "cell_type": "code",
   "execution_count": 47,
   "id": "40667829-2882-4d41-b2a0-598ca6fa3ab4",
   "metadata": {},
   "outputs": [
    {
     "name": "stdout",
     "output_type": "stream",
     "text": [
      "<class 'complex'>\n"
     ]
    }
   ],
   "source": [
    "print(type(x_test))"
   ]
  },
  {
   "cell_type": "code",
   "execution_count": 46,
   "id": "6b7e828c-09cb-44e6-9c9b-ac13fae50f3a",
   "metadata": {},
   "outputs": [
    {
     "data": {
      "text/plain": [
       "float"
      ]
     },
     "execution_count": 46,
     "metadata": {},
     "output_type": "execute_result"
    }
   ],
   "source": [
    "type(x_test.real)"
   ]
  },
  {
   "cell_type": "code",
   "execution_count": 45,
   "id": "7b764e47-ae39-45b7-a4f7-01ebd721c13b",
   "metadata": {},
   "outputs": [
    {
     "data": {
      "text/plain": [
       "234234.0"
      ]
     },
     "execution_count": 45,
     "metadata": {},
     "output_type": "execute_result"
    }
   ],
   "source": [
    "x_test.imag"
   ]
  },
  {
   "cell_type": "code",
   "execution_count": 55,
   "id": "33643b4e-d31e-42e0-b827-b92ef1b6a7fe",
   "metadata": {},
   "outputs": [
    {
     "name": "stderr",
     "output_type": "stream",
     "text": [
      "C:\\Users\\MDelventhal\\AppData\\Local\\Temp\\ipykernel_34108\\3026565377.py:1: RuntimeWarning: invalid value encountered in sqrt\n",
      "  np.sqrt(x_test)\n"
     ]
    },
    {
     "data": {
      "text/plain": [
       "nan"
      ]
     },
     "execution_count": 55,
     "metadata": {},
     "output_type": "execute_result"
    }
   ],
   "source": [
    "np.sqrt(x_test)"
   ]
  },
  {
   "cell_type": "code",
   "execution_count": 58,
   "id": "940bfef4-bb82-4e22-abb4-652b458f9439",
   "metadata": {},
   "outputs": [
    {
     "data": {
      "text/plain": [
       "1j"
      ]
     },
     "execution_count": 58,
     "metadata": {},
     "output_type": "execute_result"
    }
   ],
   "source": [
    "np.sqrt(complex(-1))"
   ]
  },
  {
   "cell_type": "code",
   "execution_count": 59,
   "id": "6f54c55e-2798-4f4b-85d6-dc80b84b71a3",
   "metadata": {},
   "outputs": [
    {
     "ename": "ValueError",
     "evalue": "math domain error",
     "output_type": "error",
     "traceback": [
      "\u001b[1;31m---------------------------------------------------------------------------\u001b[0m",
      "\u001b[1;31mValueError\u001b[0m                                Traceback (most recent call last)",
      "Cell \u001b[1;32mIn[59], line 2\u001b[0m\n\u001b[0;32m      1\u001b[0m \u001b[38;5;28;01mimport\u001b[39;00m \u001b[38;5;21;01mmath\u001b[39;00m\n\u001b[1;32m----> 2\u001b[0m \u001b[43mmath\u001b[49m\u001b[38;5;241;43m.\u001b[39;49m\u001b[43msqrt\u001b[49m\u001b[43m(\u001b[49m\u001b[38;5;241;43m-\u001b[39;49m\u001b[38;5;241;43m1\u001b[39;49m\u001b[43m)\u001b[49m\n",
      "\u001b[1;31mValueError\u001b[0m: math domain error"
     ]
    }
   ],
   "source": [
    "import math\n",
    "math.sqrt(-1)"
   ]
  },
  {
   "cell_type": "code",
   "execution_count": null,
   "id": "e0bc53da-06fd-4905-a9e9-182009a18cea",
   "metadata": {},
   "outputs": [],
   "source": []
  }
 ],
 "metadata": {
  "kernelspec": {
   "display_name": "Python 3 (ipykernel)",
   "language": "python",
   "name": "python3"
  },
  "language_info": {
   "codemirror_mode": {
    "name": "ipython",
    "version": 3
   },
   "file_extension": ".py",
   "mimetype": "text/x-python",
   "name": "python",
   "nbconvert_exporter": "python",
   "pygments_lexer": "ipython3",
   "version": "3.12.1"
  }
 },
 "nbformat": 4,
 "nbformat_minor": 5
}
