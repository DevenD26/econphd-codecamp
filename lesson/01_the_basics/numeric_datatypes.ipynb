{
 "cells": [
  {
   "cell_type": "markdown",
   "id": "eef059f7-82b5-456b-8028-b4db320f8c26",
   "metadata": {},
   "source": [
    "# Numeric data types\n",
    "\n",
    "This notebook will provide a basic introduction to numeric data types in Python.\n",
    "\n",
    "The 3 most important numeric data types in Python are:\n",
    "\n",
    "  1. **Integers** `int`. Same as in math--these are the counting numbers, plus negatives, plus zero. They are perfectly precise--they store exactly the number that was input to them.\n",
    "\n",
    "  2. **Floating-point numbers** `float`. Can be used to represent any real number. Default data type for most math operations. They are **imprecise**--they store a very close approximation to the number that was input. This imprecision can lead to errors sometimes when dealing with very small numbers. It also makes floats unsuitable for storing ID or serial numbers.\n",
    "\n",
    "  3. **Booleans** `bool`. True or false, `True` = 1 and `False` = 0.\n",
    "\n",
    "  4. **Complex** `complex`. An ordered pair of two floats--the real and the imaginary part. Python will **not** automatically convert simple floats to complex if, for example, you take the square root of -1. Because floats are the default numerical data type, if you need to work with complex results, you will need to explicitly create complex variables.\n",
    "\n",
    "In what follows, we'll demonstrate a few characteristics of each type."
   ]
  },
  {
   "cell_type": "markdown",
   "id": "8db83375-4c3b-4a2f-a378-cf3f5c0c874e",
   "metadata": {},
   "source": [
    "### Integers\n",
    "\n",
    "Below, we'll declare an integer. As you can see, it is a very large number: 123,456,789,000,000,000,123,456,789\n",
    "\n",
    "In any programming environment, there is always an upper limit on the largest number you can represent. In Python, the default integer type allows very large numbers, so that you almost never have to think about this.\n",
    "\n",
    "Notice that because of the integer type's perfect precision, the stored number is exactly the same as the one that was input."
   ]
  },
  {
   "cell_type": "code",
   "execution_count": null,
   "id": "5f8bbb9f-1046-453f-8557-5040fc92ac49",
   "metadata": {},
   "outputs": [],
   "source": [
    "# declare an integer\n",
    "x_integer = 1234567890123456789\n",
    "\n",
    "# output the integer\n",
    "print(x_integer)\n",
    "\n",
    "# output the integer's data type (`int`)\n",
    "print(type(x_integer))\n",
    "\n"
   ]
  },
  {
   "cell_type": "markdown",
   "id": "0a6979ba-1720-4103-a7b4-c7c887f934e6",
   "metadata": {},
   "source": [
    "### Quick exercises for integers\n",
    "\n",
    "In the empty cell below, do the following:\n",
    " 1. Declare a negative integer.\n",
    " 2. Try to declare an integer so large that it gives an error for being too large."
   ]
  },
  {
   "cell_type": "code",
   "execution_count": null,
   "id": "6d813910-4694-42e0-a4e0-310f32f927ba",
   "metadata": {},
   "outputs": [],
   "source": [
    "# negative integer\n",
    "neg_integer = -10\n",
    "\n",
    "print(neg_integer)\n",
    "\n",
    "# too large integer, 4300 digits the max\n",
    "too_large = 9999999999999999999999999999999999999999999999999999999999999999999999999999999999999999999999999999999999999999999999999999999999999999999999999999999999999999999999999999999999999999999999999999999999999999999999999999999999999999999999999999999999999999999999999999999999999999999999999999999999999999999999999999999999999999999999999999999999999999999999999999999999999999999999999999999999999999999999999999999999999999999999999999999999999999999999999999999999999999999999999999999999999999999999999999999999999999999999999999999999999999999999999999999999999999999999999999999999999999999999999999999999999999999999999999999999999999999999999999999999999999999999999999999999999999999999999999999999999999999999999999999999999999999999999999999999999999999999999999999999999999999999999999999999999999999999999999999999999999999999999999999999999999999999999999999999999999999999999999999999999999999999999999999999999999999999999999999999999999999999999999999999999999999999999999999999999999999999999999999999999999999999999999999999999999999999999999999999999999999999999999999999999999999999999999999999999999999999999999999999999999999999999999999999999999999999999999999999999999999999999999999999999999999999999999999999999999999999999999999999999999999999999999999999999999999999999999999999999999999999999999999999999999999999999999999999999999999999999999999999999999999999999999999999999999999999999999999999999999999999999999999999999999999999999999999999999999999999999999999999999999999999999999999999999999999999999999999999999999999999999999999999999999999999999999999999999999999999999999999999999999999999999999999999999999999999999999999999999999999999999999999999999999999999999999999999999999999999999999999999999999999999999999999999999999999999999999999999999999999999999999999999999999999999999999999999999999999999999999999999999999999999999999999999999999999999999999999999999999999999999999999999999999999999999999999999999999999999999999999999999999999999999999999999999999999999999999999999999999999999999999999999999999999999999999999999999999999999999999999999999999999999999999999999999999999999999999999999999999999999999999999999999999999999999999999999999999999999999999999999999999999999999999999999999999999999999999999999999999999999999999999999999999999999999999999999999999999999999999999999999999999999999999999999999999999999999999999999999999999999999999999999999999999999999999999999999999999999999999999999999999999999999999999999999999999999999999999999999999999999999999999999999999999999999999999999999999999999999999999999999999999999999999999999999999999999999999999999999999999999999999999999999999999999999999999999999999999999999999999999999999999999999999999999999999999999999999999999999999999999999999999999999999999999999999999999999999999999999999999999999999999999999999999999999999999999999999999999999999999999999999999999999999999999999999999999999999999999999999999999999999999999999999999999999999999999999999999999999999999999999999999999999999999999999999999999999999999999999999999999999999999999999999999999999999999999999999999999999999999999999999999999999999999999999999999999999999999999999999999999999999999999999999999999999999999999999999999999999999999999999999999999999999999999999999999999999999999999999999999999999999999999999999999999999999999999999999999999999999999999999999999999999999999999999999999999999999999999999999999999999999999999999999999999999999999999999999999999999999999999999999999999999999999999999999999999999999999999999999999999999999999999999999999999999999999999999999999999999999999999999999999999999999999999999999999999999999999999999999999999999999999999999999999999999999999999999999999999999999999999999999999999999999999999999999999999999999999999999999999999999999999999999999999999999999999999999999999999999999999999999999999999999999999999999999999999999999999999999999999999999999999999999999999999999999999999999999999999999999999999999999999999999999999999999999999999999999999999999999999999999999999999999999999999999999999999999999999999999999999999999999999999999999999999999999999999999999999999999999999999999999999999999999999999999999999999999999999999999999999999999999999999999999999999999999999999999999999999999999999999999999999999999999999999999999999999999999999999999999999999999999999999999999999999999999999999999999999999999999999999999999999999999999999999999999999999999999999999999999999999999999999999999999999999999999999999999999999999999999999999999999999999999999999999999999999999999999999999999999999999999999999999999999999999999999999999999999999999999999999999999999999999999999999999999999999999999999999999999999999\n",
    "print(too_large)"
   ]
  },
  {
   "cell_type": "markdown",
   "id": "581cbab0-3b7c-41c6-a4d8-04f48f090164",
   "metadata": {},
   "source": [
    "### Floats\n",
    "\n",
    "Now, let's declare a float. As you can see, it is the same very large number as before: 1,234,567,890,123,456,789\n",
    "\n",
    "The difference now is that we have placed a decimal point `.` after it.\n",
    "\n",
    "Below we also demonstrate 2 alternative ways to define a float: placing a decimal point with a `0` after it (obviously, the zero is superfluous). You could also define a float by applying the `float()` function to an integer, as done in the 3rd example.\n",
    "\n"
   ]
  },
  {
   "cell_type": "code",
   "execution_count": null,
   "id": "c5be2ca0-0805-4ef4-9193-ee23594f645d",
   "metadata": {},
   "outputs": [],
   "source": [
    "x_float = 1234567890123456789.\n",
    "x_float_also = 1234567890123456789.0\n",
    "x_float_also_too = float(1234567890123456789)\n",
    "\n",
    "print(x_float)\n",
    "print(type(x_float))\n",
    "\n"
   ]
  },
  {
   "cell_type": "markdown",
   "id": "4b81f755-2bd7-43ff-a648-937e32f9772b",
   "metadata": {},
   "source": [
    "### Float precision\n",
    "\n",
    "Notice that when we output the float after defining it, the number is shown using scientific notation, with only the first several digits displayed.\n",
    "\n",
    "This is how numbers are stored as floats--the first several \"most significant\" digits are stored, and the magnitude of the number is stored as a power of 10. **Not** all of the smaller digits preserved. How can we verify this? We can convert the float back to the integer type and display it.\n",
    "\n",
    "Notice that now the last 9 digits are quite different from what was originally input."
   ]
  },
  {
   "cell_type": "code",
   "execution_count": null,
   "id": "0afe5354-65bf-4da5-a3d8-8e2edac170d2",
   "metadata": {},
   "outputs": [],
   "source": [
    "print(int(x_float))"
   ]
  },
  {
   "cell_type": "markdown",
   "id": "8661de6a-efd0-429b-a803-70148e6c39a4",
   "metadata": {},
   "source": [
    "### Quick exercises for floats\n",
    "\n",
    "In the empty cell below, do the following:\n",
    " 1. Declare a float which only has a few digits, so that it does not lose precision.\n",
    " 2. Declare a float which has many digits, and so loses precision.\n",
    " 3. Declare a float which is very close to zero."
   ]
  },
  {
   "cell_type": "code",
   "execution_count": null,
   "id": "1082da19-4b81-4bd4-a6e4-d43e2e182364",
   "metadata": {},
   "outputs": [],
   "source": [
    "# 1\n",
    "few_digits = 12345.0\n",
    "print(few_digits)\n",
    "print(type(few_digits))\n",
    "\n",
    "\n",
    "# 2\n",
    "many_digits_int = 123456789012345678912313\n",
    "many_digits_fl = 123456789012345678912313.0\n",
    "print(many_digits_int)\n",
    "print(many_digits_fl)\n",
    "print(many_digits_int == many_digits_fl)\n",
    "\n",
    "\n",
    "# 3\n",
    "close_to_zero = 0.00000121415100023\n",
    "print(close_to_zero)\n"
   ]
  },
  {
   "cell_type": "markdown",
   "id": "0d0dd5ca-eabe-426f-aa81-0ff20fdab008",
   "metadata": {},
   "source": [
    "### Booleans\n",
    "\n",
    "A Boolean variable can take a value of True or False. It can be initiated using the keyword values `True` or `False`. `True` corresponds to an integer 1, and `False` corresponds to an integer 0.\n",
    "\n",
    "It can can also be initiated by applying the `bool()` function to a 1 or a 0."
   ]
  },
  {
   "cell_type": "code",
   "execution_count": null,
   "id": "2e203f45-4f2b-41ee-957e-4a3d340fd253",
   "metadata": {},
   "outputs": [],
   "source": [
    "x_bool = True\n",
    "print(x_bool)\n",
    "print(type(x_bool))\n",
    "\n",
    "\n",
    "x_bool_also = bool(1)\n",
    "print(x_bool_also)\n",
    "print(type(x_bool_also))\n"
   ]
  },
  {
   "cell_type": "markdown",
   "id": "5c587721-80d0-4999-87c2-4f3bbc848b96",
   "metadata": {},
   "source": [
    "### Logical statements\n",
    "\n",
    "There are a number of logical operations whose outcome is a Boolean object. "
   ]
  },
  {
   "cell_type": "code",
   "execution_count": null,
   "id": "a0f08801-09f7-4ef3-87cc-d3a5e5557e86",
   "metadata": {},
   "outputs": [],
   "source": [
    "print(2 > 1)\n",
    "print(type(2>1))\n",
    "\n",
    "\n",
    "print(2 == 1)\n",
    "print(type(2==1))\n",
    "\n",
    "\n",
    "print((1+1) == 2)\n",
    "print(type((1+1)==1))"
   ]
  },
  {
   "cell_type": "markdown",
   "id": "fdda51f4-aa96-4547-aa9c-1c7a458fe08f",
   "metadata": {},
   "source": [
    "### Float precisions, another demonstration\n",
    "\n",
    "If we test directly whether the float copy of our earlier \"big\" number is preserved when stored as a float, the outcome will be a Boolean object"
   ]
  },
  {
   "cell_type": "code",
   "execution_count": null,
   "id": "33959b84-54fa-486c-ab3c-8cc9e8edf0cb",
   "metadata": {},
   "outputs": [],
   "source": [
    "print(x_float == x_integer)"
   ]
  },
  {
   "cell_type": "markdown",
   "id": "aec6a2a2-a616-4214-91c0-8cf4f1daca99",
   "metadata": {},
   "source": [
    "### Quick exercises for comparing floats and integers\n",
    "\n",
    "In the empty cell below, do the following:\n",
    " 1. Declare a number as a float and an integer, such that the float equals the integer (returns `True` for the `==` logical test.)\n",
    " 2. Declare a number as a float and an integer, such that the float does **not** equal the integer (returns `False` for the `==` logical test.)\n"
   ]
  },
  {
   "cell_type": "code",
   "execution_count": null,
   "id": "119252cb-3c55-4499-acf3-1ca905a38efa",
   "metadata": {},
   "outputs": [],
   "source": [
    "x_float =1.0\n",
    "x_int = 1\n",
    "\n",
    "print(x_float==x_int)\n",
    "\n",
    "\n",
    "many_digits_int = 123456789012345678912313\n",
    "many_digits_fl = 123456789012345678912313.0\n",
    "print(many_digits_int==many_digits_fl)"
   ]
  },
  {
   "cell_type": "markdown",
   "id": "514db401-b91f-4340-b23a-998621edf8ea",
   "metadata": {},
   "source": [
    "### Infinity and NaN\n",
    "\n",
    "The float data type has the ability to take values representing positive and negative infinity. It can also take the \"NaN\"/\"nan\"/\"Not a Number\" value.\n",
    "\n",
    "Most operations will NOT yield infinity or Not a Number as a result. If you try to divide by zero or create too large of a number, it will instead return an error.\n",
    "\n",
    "An exception to this can be found in the NumPy package. Operations conducted through NumPy *will*, for example, return infinity or negative infinity for dividing by zero.\n"
   ]
  },
  {
   "cell_type": "code",
   "execution_count": null,
   "id": "d4bc792c-75af-403a-8a3c-3a27d5300a1f",
   "metadata": {},
   "outputs": [],
   "source": [
    "## Declaring infinity with standard Python float\n",
    "\n",
    "unbounded = float('inf')\n",
    "\n",
    "print(unbounded)\n",
    "\n",
    "print(type(unbounded))\n",
    "\n",
    "print(-unbounded)\n",
    "\n"
   ]
  },
  {
   "cell_type": "code",
   "execution_count": null,
   "id": "a68ad2aa-4fd8-4cc7-91ca-9926e5c854ec",
   "metadata": {},
   "outputs": [],
   "source": [
    "## Declaring not a number with standard Python float\n",
    "\n",
    "\n",
    "notanumber = float('nan')\n",
    "\n",
    "print(notanumber)\n",
    "\n",
    "print(type(notanumber))"
   ]
  },
  {
   "cell_type": "code",
   "execution_count": null,
   "id": "2f846f74-2002-499b-9ec5-2149cd0d6eb5",
   "metadata": {},
   "outputs": [],
   "source": [
    "## Generate an overflow error\n",
    "## Because this uses the default Python float datatype, it will generate an error\n",
    "\n",
    "print(100.**1000000000)"
   ]
  },
  {
   "cell_type": "code",
   "execution_count": null,
   "id": "a140f69f-a3e9-4817-884d-760b46891d14",
   "metadata": {},
   "outputs": [],
   "source": [
    "## Using NumPy, instead we get infinity\n",
    "\n",
    "import numpy as np\n",
    "\n",
    "\n",
    "bignumber = np.float64(100.)**1000000000\n",
    "#Prints a warning as opposed to an error\n",
    "print(bignumber)\n",
    "print(type(bignumber))"
   ]
  },
  {
   "cell_type": "code",
   "execution_count": null,
   "id": "9a93ee0b-3936-42f1-bfb5-db6a970fcca6",
   "metadata": {},
   "outputs": [],
   "source": [
    "## Generate a divide by zero error\n",
    "\n",
    "print(100./0)"
   ]
  },
  {
   "cell_type": "code",
   "execution_count": null,
   "id": "7418ec77-3ce8-40de-bca6-5c78c9188b7f",
   "metadata": {},
   "outputs": [],
   "source": [
    "## Using NumPy, instead we get infinity\n",
    "\n",
    "import numpy as np\n",
    "\n",
    "print(np.float64(100.)/0)\n",
    "\n",
    "print(-np.float64(100.)/0)"
   ]
  },
  {
   "cell_type": "markdown",
   "id": "7868a82b-bdcd-46f1-8d8d-f22ab2ae206d",
   "metadata": {},
   "source": [
    "### Quick exercises for NaN and Inf\n",
    "\n",
    " 1. Divide zero by zero using default Python floats. What is the result? Does this make sense to you? Why or why not?\n",
    " 2. Divide zero by zero using default NumPy floats. What is the result? Does this make sense to you? Why or why not?\n",
    " 3. Can you find a NumPy operation other than dividing by zero which can return infinity?\n"
   ]
  },
  {
   "cell_type": "code",
   "execution_count": null,
   "id": "50fa7b6e-1153-4511-aa6a-6ae83eaa230b",
   "metadata": {},
   "outputs": [],
   "source": [
    "#1. Commenting out so I can run 2\n",
    "#zero = 0.0\n",
    "#zero/zero\n",
    "\n",
    "#2. returns nan\n",
    "np_zero = np.float64(0.0)\n",
    "print(np_zero/np_zero)\n",
    "\n",
    "#3. e.g. log or inf +/- anything\n",
    "# Returns neg inf\n",
    "print(np.log(0))\n",
    "print(np.log(-10))"
   ]
  },
  {
   "cell_type": "markdown",
   "id": "16fbc345-58c0-47bd-a29f-db3271e9cc7b",
   "metadata": {},
   "source": [
    "\n",
    "#### Comparisons with Infinity and NaN\n",
    "\n",
    "Probably the most important basic fact to learn about infinity and NaN is what they will return in inequality comparisons.\n",
    "\n",
    "Logically, positive infinity is greater than any finite value, and negative infinity is less than any finite value.\n",
    "\n",
    "NaN means not a number, so any comparisons with NaN return False, no matter what.\n",
    "\n"
   ]
  },
  {
   "cell_type": "code",
   "execution_count": null,
   "id": "09c93d94-7775-45a5-a3f6-a8469e9a0284",
   "metadata": {},
   "outputs": [],
   "source": [
    "## +inf is greater than anything (True for >, False for <)\n",
    "print('+inf is greater than anything (True for >, False for <)')\n",
    "print('Positive infinity > 10000:',float('inf') > 10000)\n",
    "print('Positive infinity < 10000:',float('inf') < 10000)\n",
    "print('')\n",
    "\n",
    "## -inf is less than anything (False for >, True for <)\n",
    "print('-inf is less than anything (False for >, True for <)')\n",
    "print('Negative infinity > -10000:',-float('inf') > -10000)\n",
    "print('Negative infinity < -10000:',-float('inf') < -10000)\n",
    "print('')\n",
    "\n",
    "## NaN returns false for all comparisons (False for <, False for >)\n",
    "print('NaN returns false for all comparisons (False for <, False for >)')\n",
    "print('NaN > positive infinity:',float('nan') > float('inf'))\n",
    "print('NaN < positive infinity:',float('nan') > float('inf'))\n",
    "print('')\n",
    "\n",
    "## NaN returns false for all comparisons (False for <, False for >)\n",
    "print('NaN returns false for all comparisons (False for <, False for >)')\n",
    "print('NaN > 10000:',float('nan') > 10000)\n",
    "print('NaN < 10000:',float('nan') < 10000)\n",
    "print('')\n",
    "\n",
    "\n"
   ]
  },
  {
   "cell_type": "code",
   "execution_count": null,
   "id": "1d754673-1b37-4938-8710-92fe38842424",
   "metadata": {},
   "outputs": [],
   "source": [
    "### Quick exercises for NaN and Inf comparisons\n",
    "\n",
    " 1. Test whether or not NaN is equal to itself. Does this `==` test return `True` or `False`? Does this make sense to you? Why or why not?\n"
   ]
  },
  {
   "cell_type": "raw",
   "id": "05bc4fd2-b488-4b93-8260-2a9b8d7734af",
   "metadata": {
    "scrolled": true
   },
   "source": [
    "#Returns false, makes sense bc can have diff NaNs\n",
    "not_a_num = float('nan')\n",
    "print(not_a_num == not_a_num)\n",
    "\n"
   ]
  },
  {
   "cell_type": "markdown",
   "id": "e3a7469f-f452-4e68-a3eb-84e380da7f9f",
   "metadata": {},
   "source": [
    "### Complex numbers\n",
    "\n",
    "A complex number is a pair of two floats: the real part and the imaginary part.\n",
    "\n",
    "The imaginary part can be written with a `j` following it. So `1.0` will be a non-complex float, but `1.0 + 0.0j` will take the same value, but as a complex number (which happens to have no imaginary part, yet).\n",
    "\n",
    "If you take the square root of a negative non-complex float, you will get an error or NaN. The square root of a negative number declared as a complex number will return the mathematically correct result (an imaginary number)."
   ]
  },
  {
   "cell_type": "code",
   "execution_count": null,
   "id": "247e221c-ead6-4db9-b015-b7b728aabd2c",
   "metadata": {},
   "outputs": [],
   "source": [
    "## Two ways of declaring the same number: one as a non-complex float, the other as a complex number\n",
    "\n",
    "one_noncomplex = -1.0\n",
    "one_complex = -1.0 + 0.0j\n",
    "\n",
    "## If you check equality of the two variables, it returns True! As it should--they're just two ways of declaring a variable to store the same value.\n",
    "print(one_noncomplex == one_complex)\n",
    "\n",
    "## Square root of -1 for non-complex number is NaN (with NumPy).\n",
    "print(np.sqrt(one_noncomplex))\n",
    "\n",
    "## Square root of -1 for complex number is `i` (with NumPy).\n",
    "print(np.sqrt(one_complex))\n"
   ]
  },
  {
   "cell_type": "markdown",
   "id": "0f76270f-6d44-44ce-a0ae-4d2dfea39c1d",
   "metadata": {},
   "source": [
    "### Quick exercises for complex numbers\n",
    "\n",
    " 1. Declare some complex number variables and perform at least 3 different operations with them.\n"
   ]
  },
  {
   "cell_type": "code",
   "execution_count": null,
   "id": "c1c19665-a4bb-4527-aa35-bcf0c39da36b",
   "metadata": {},
   "outputs": [],
   "source": [
    "c_1 = np.sqrt(-2.0 + 0.0j)\n",
    "c_2 = 2.0 + 3.0j\n",
    "\n",
    "print(c_1)\n",
    "print(c_1 + c_2)\n",
    "\n",
    "#Creates slight floating point error when squaring the sqrt\n",
    "print(c_1**2)"
   ]
  }
 ],
 "metadata": {
  "kernelspec": {
   "display_name": "Python 3 (ipykernel)",
   "language": "python",
   "name": "python3"
  },
  "language_info": {
   "codemirror_mode": {
    "name": "ipython",
    "version": 3
   },
   "file_extension": ".py",
   "mimetype": "text/x-python",
   "name": "python",
   "nbconvert_exporter": "python",
   "pygments_lexer": "ipython3",
   "version": "3.13.5"
  }
 },
 "nbformat": 4,
 "nbformat_minor": 5
}
