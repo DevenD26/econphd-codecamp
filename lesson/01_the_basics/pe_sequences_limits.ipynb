{
 "cells": [
  {
   "cell_type": "markdown",
   "id": "0488d932-36f7-4fcc-8e26-19909183b937",
   "metadata": {},
   "source": [
    "# Practical Exercise: Sequences and limits\n",
    "\n",
    "Write code which will achieve the following two goals:\n",
    " 1. Calculate the first 100 values of the Fibbonaci sequence.\n",
    " 2. Find a value $\\beta$ for which $\\sum\\limits_{x=0}^{\\infty} \\beta^x$ has a finite sum, and calculate the sum, without doing any clever Algebra beforehand."
   ]
  },
  {
   "cell_type": "code",
   "execution_count": null,
   "id": "b83c7de2-6776-46cf-b394-dc1144963d4d",
   "metadata": {},
   "outputs": [],
   "source": []
  }
 ],
 "metadata": {
  "kernelspec": {
   "display_name": "Python 3 (ipykernel)",
   "language": "python",
   "name": "python3"
  },
  "language_info": {
   "codemirror_mode": {
    "name": "ipython",
    "version": 3
   },
   "file_extension": ".py",
   "mimetype": "text/x-python",
   "name": "python",
   "nbconvert_exporter": "python",
   "pygments_lexer": "ipython3",
   "version": "3.12.1"
  }
 },
 "nbformat": 4,
 "nbformat_minor": 5
}
