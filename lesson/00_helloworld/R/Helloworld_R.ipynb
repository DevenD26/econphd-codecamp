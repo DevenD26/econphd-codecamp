{
 "cells": [
  {
   "cell_type": "markdown",
   "id": "0e5a9328-c185-4e48-aae4-b39d14bfb5d4",
   "metadata": {},
   "source": [
    "# Hello world\n",
    "\n",
    "R version\n",
    "\n",
    "## Background\n",
    "\n",
    "\"Hello World\" is a classic programming exercise, often considered the first step in learning a new programming language. It consists of constructing a minimal program which will output the words \"Hello World.\" If it runs without errors, this demonstrates that the software is installed correctly in the computing environment and that the user has been able to build a very simple program.\n",
    "\n",
    "## Starter code\n",
    "\n",
    "The two cells below contain starter code comprising a complete \"Hello World\" program. You can run this code to verify that your software installation has been successful.\n",
    "\n",
    "## Exercise\n",
    "\n",
    "As an exercise, you can write your own modified \"Hello World\" program. See instructions below, after the starter code.\n"
   ]
  },
  {
   "cell_type": "code",
   "execution_count": 1,
   "id": "96f4ed00-f8c5-40d3-a6a5-7d777262ef7f",
   "metadata": {},
   "outputs": [],
   "source": [
    "## Here we define three strings, each containing part of the \"hello world\" statement.\n",
    "## It is not necessary to break things up in this way--here we have done it for fun and to demonstrate some additional characteristics of the language.\n",
    "\n",
    "\n",
    "firstword <- \"Hello\"\n",
    "\n",
    "secondword <- \"World\"\n",
    "\n",
    "finalpunctuation <- \"!!!\"\n",
    "\n",
    "## Strings in R can be offset using single quotes `'` double quotes `\"`. \n"
   ]
  },
  {
   "cell_type": "code",
   "execution_count": 2,
   "id": "6fdd4a59-ac43-4543-85ce-b6461b22e0f5",
   "metadata": {},
   "outputs": [
    {
     "name": "stdout",
     "output_type": "stream",
     "text": [
      "[1] \"Hello World!!!\"\n"
     ]
    }
   ],
   "source": [
    "## In R, the most straightforward way to concatenate strings is with the `paste()` function.\n",
    "## By default, `paste()` separates input strings with a space `' '`, so here we've specified that it should separate them with nothing `''`.\n",
    "## The `print()` function outputs strings to the console.\n",
    "\n",
    "print(paste(firstword,\" \",secondword,finalpunctuation,sep=\"\"))"
   ]
  },
  {
   "cell_type": "markdown",
   "id": "ac8d327b-2bee-4384-8f4c-1157a5305aad",
   "metadata": {},
   "source": [
    "## Exercise instructions\n",
    "\n",
    "Write a \"Hello World\" program similar to the above, but:\n",
    "  1. Split the message into 4 or more strings (instead of just 3, as above).\n",
    "  2. Change at least 1 word.\n",
    "  3. Include a line break in the final output (make the output appear on multiple lines).\n",
    "  4. Use single-quotes to define at least one of the strings.\n",
    "     "
   ]
  },
  {
   "cell_type": "code",
   "execution_count": null,
   "id": "33d2cc58-e8a0-473a-bb78-ccf345ba18fc",
   "metadata": {},
   "outputs": [],
   "source": []
  }
 ],
 "metadata": {
  "kernelspec": {
   "display_name": "R",
   "language": "R",
   "name": "ir"
  },
  "language_info": {
   "codemirror_mode": "r",
   "file_extension": ".r",
   "mimetype": "text/x-r-source",
   "name": "R",
   "pygments_lexer": "r",
   "version": "4.4.2"
  }
 },
 "nbformat": 4,
 "nbformat_minor": 5
}
