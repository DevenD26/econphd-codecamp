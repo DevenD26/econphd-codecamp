{
 "cells": [
  {
   "cell_type": "markdown",
   "id": "fd029ac3-0e20-4a46-9911-b2b7176b9dc1",
   "metadata": {},
   "source": [
    "# Practical exercise: plotting discontinuous functions\n",
    "\n",
    "For the following, write up the formula in $\\LaTeX$ and then depict it on a Cartesian plane. Identify and write up any discontinuities and any limits associated with those discontinuities.\n",
    "\n",
    " 1. The Heaviside Step Function\n",
    " 2. The ratio between $x^3$ and $x^2 - 2 x + 1$.\n",
    " 3. The ratio between $x^2 - 1$ and $x - 1$\n",
    " 4. The tangent function.\n"
   ]
  },
  {
   "cell_type": "markdown",
   "id": "36d7a662-3195-4efd-8d05-9bd3075e84a2",
   "metadata": {},
   "source": [
    "## 1. Heavyside Step Function\n",
    "\n",
    "A function which takes the value 0 for values less than 0 and 1 otherwise.\n",
    "\n",
    "$$H(x) = \\left \\{ \\begin{matrix*}[r l] 1 & \\text{ for } x \\geq 0 \\\\\n",
    "0 & \\text{ for } x < 0 \\end{matrix*} \\right.$$"
   ]
  },
  {
   "cell_type": "code",
   "execution_count": null,
   "id": "3fab7f68-3feb-42be-a866-2ed994b69878",
   "metadata": {},
   "outputs": [],
   "source": [
    "x = linspace(-5,5,1000);\n",
    "\n",
    "y = 0;\n",
    "\n",
    "figure()\n",
    "plot(x,y)\n"
   ]
  },
  {
   "cell_type": "markdown",
   "id": "e1cf6688-d099-432f-92dd-f00891245234",
   "metadata": {},
   "source": [
    "## 2. The ratio between $x^3$ and $x^2 - 2 x + 1$.\n",
    "\n",
    "Discontinuous at x = 1\n",
    "\n",
    "$$\\frac{x^3}{(x-1)^2}$$\n"
   ]
  },
  {
   "cell_type": "markdown",
   "id": "d31630bf-92c7-40bb-b5b5-61593e49db63",
   "metadata": {},
   "source": [
    "## 3. The ratio between $x^2 - 1$ and $x - 1$\n",
    "\n",
    "$$\\frac{x^2-1}{x-1}$$\n",
    "\n",
    "$$\\frac{(x+1)(x-1)}{x-1}$$\n",
    "\n",
    "$$(x+1)$$\n"
   ]
  },
  {
   "cell_type": "markdown",
   "id": "867446bc-0859-49c4-85ba-27ff43319ea4",
   "metadata": {},
   "source": [
    "## 4. The Tangent Function \n",
    "\n",
    "Vertical Asymptotes at $\\frac{\\pi}{2}$ intervals. \n",
    "\n",
    "$tan (x) $\n"
   ]
  },
  {
   "cell_type": "code",
   "execution_count": null,
   "id": "8eee3c96-dd9e-4857-bbf0-936dbee34a40",
   "metadata": {},
   "outputs": [],
   "source": []
  }
 ],
 "metadata": {
  "kernelspec": {
   "display_name": "MATLAB Kernel",
   "language": "matlab",
   "name": "jupyter_matlab_kernel"
  },
  "language_info": {
   "file_extension": ".m",
   "mimetype": "text/x-matlab",
   "name": "matlab"
  }
 },
 "nbformat": 4,
 "nbformat_minor": 5
}
