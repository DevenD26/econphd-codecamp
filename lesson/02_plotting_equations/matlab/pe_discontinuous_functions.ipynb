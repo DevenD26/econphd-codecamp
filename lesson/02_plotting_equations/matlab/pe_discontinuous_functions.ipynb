{
 "cells": [
  {
   "cell_type": "markdown",
   "id": "fd029ac3-0e20-4a46-9911-b2b7176b9dc1",
   "metadata": {},
   "source": [
    "# Practical exercise: plotting discontinuous functions\n",
    "\n",
    "For the following, write up the formula in $\\LaTeX$ and then depict it on a Cartesian plane. Identify and write up any discontinuities and any limits associated with those discontinuities.\n",
    "\n",
    " 1. The Heaviside Step Function\n",
    " 2. The ratio between $x^3$ and $x^2 - 2 x + 1$.\n",
    " 3. The ratio between $x^2 - 1$ and $x - 1$\n",
    " 4. The tangent function.\n"
   ]
  },
  {
   "cell_type": "code",
   "execution_count": null,
   "id": "30f64ac5-684b-4f0e-a084-e1723dea83fb",
   "metadata": {},
   "outputs": [],
   "source": []
  }
 ],
 "metadata": {
  "kernelspec": {
   "display_name": "MATLAB Kernel",
   "language": "matlab",
   "name": "jupyter_matlab_kernel"
  },
  "language_info": {
   "file_extension": ".m",
   "mimetype": "text/x-matlab",
   "name": "matlab"
  }
 },
 "nbformat": 4,
 "nbformat_minor": 5
}
