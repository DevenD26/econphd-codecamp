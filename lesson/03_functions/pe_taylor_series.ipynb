{
 "cells": [
  {
   "cell_type": "markdown",
   "id": "354b7a71-7b45-47a9-89af-c69afc157806",
   "metadata": {},
   "source": [
    "# Practical Exercise: Taylor Series\n",
    "\n",
    "Implement the following steps as best you can:\n",
    " 1. Write a function to calculate factorials (Yes, there are built-in options. Make your own.)\n",
    " 2. Write a function to compute a term of a Taylor series of a given degree, at a given point, for a vector of $x$ inputs. It should take another function which calculates the appropriate derivative as an input.\n",
    " 3. Pick a function to approximate up to at least the 3rd degree. Write functions to compute values of that function, and of at least its first, second, and third derivatives.\n",
    " 4. Write a function (or functions) which will combine elements from the previous steps to compute Taylor approximations of the 1st, 2nd, and 3rd degree for your chosen function.\n",
    " 5. Plot your chosen function plus it's 1st, 2nd, and 3rd order approximations for an appropriate range of input values and comment on goodness of fit."
   ]
  },
  {
   "cell_type": "code",
   "execution_count": 39,
   "id": "6407c444-8f5c-4269-8564-7ad5df0885bf",
   "metadata": {},
   "outputs": [
    {
     "data": {
      "text/plain": [
       "24"
      ]
     },
     "execution_count": 39,
     "metadata": {},
     "output_type": "execute_result"
    }
   ],
   "source": [
    "#1. Factorials\n",
    "def calc_factorial(num):\n",
    "    if num < 0:\n",
    "        return(\"Provide a number > 0\")\n",
    "        \n",
    "    terms = range(1, num+1)\n",
    "    res = 1\n",
    "    for val in terms:\n",
    "        res = res * val\n",
    "\n",
    "    return(res)    \n",
    "\n",
    "calc_factorial(8)\n",
    "\n",
    "calc_factorial(4)\n"
   ]
  },
  {
   "cell_type": "code",
   "execution_count": 85,
   "id": "c666dedf-954b-4d01-991e-19006f8801b9",
   "metadata": {},
   "outputs": [
    {
     "name": "stdout",
     "output_type": "stream",
     "text": [
      "[ 8 22 46 66]\n"
     ]
    }
   ],
   "source": [
    "#2. Compute term of taylor series for vector of x inputs\n",
    "import numpy as np\n",
    "\n",
    "#Given vector of derivatives, centered at a given point\n",
    "def calc_taylor(array_of_deriv, center, approx_value):\n",
    "    #Multiply the vec of derivatives * (approx_value - center)\n",
    "    diff = approx_value - center\n",
    "    print(diff)\n",
    "\n",
    "    #np.array doesn't save as floats, need to save as floats to be able to approximate the difference as terms shrink closer \n",
    "    a = np.array(range(len(array_of_deriv))) \n",
    "    diff_approx = np.vectorize(float)(a)\n",
    "    \n",
    "    for i in diff_approx:\n",
    "        a = float(diff**i)\n",
    "        diff_approx[i] = a\n",
    "        print(a)\n",
    "    \n",
    "    factorial_div = np.array(range(1, len(array_of_deriv)+1))\n",
    "    for i in factorial_div:\n",
    "        a = calc_factorial(i)\n",
    "        factorial_div[i-1] = a\n",
    "        \n",
    "    terms = array_of_deriv/factorial_div\n",
    "\n",
    "    #returns each term of the polynomial\n",
    "    return(np.cumsum(diff*terms))\n",
    "\n",
    "\n",
    "# Given an array of derivatives, the point you are centering on and the approximation you want to calculate, will find the \n",
    "# input_array = np.array([5, 5, 5, 5])\n",
    "# calc_taylor(input_array, 0, 1)\n",
    "\n",
    "#3. Pick a function to approximate, compute values of the 1st, 2nd, and 3rd derivatives\n",
    "# Chose a random 4th degree polynomial, can compare to numerical deriv once we cover\n",
    "#Approximate $2x^4 + 3x^3 + 2x^2 + x$\n",
    "\n",
    "def compute_deriv_poly(x):\n",
    "    base = 2*x**4 + 3*x**3 + 2*x**2 + x\n",
    "    der1 = 8*x**3 + 9*x**2 + 4*x + 1\n",
    "    der2 = 24*x**2 + 18*x + 4\n",
    "    der3 = 48*x + 18\n",
    "    return(np.array([base, der1, der2, der3]))\n",
    "\n",
    "# base = $2x^4 + 3x^3 + 2x^2 + x$\n",
    "# first derivative = 8x^3 + 9x^2 + 4x + 1\n",
    "# second derivative = 24x^2 + 18x + 4\n",
    "# third derivative = 48x + 18\n",
    "\n",
    "\n",
    "#4. combine previous steps to compute taylor approx for first 3 degrees based on input\n",
    "\n",
    "def taylor_series_approx(center, approx):\n",
    "    derivs = compute_deriv_poly(center)\n",
    "    taylor_approx = calc_taylor(derivs, center, approx)\n",
    "\n",
    "    return(taylor_approx)\n",
    "\n",
    "#print(taylor_series_approx(1, 1.1))\n",
    "\n",
    "print(compute_deriv_poly(1))\n",
    "\n",
    "#t2 = calc_taylor(derivs, 1, 1.1)\n",
    "#print(t2)\n",
    "#print(t2[2])"
   ]
  },
  {
   "cell_type": "code",
   "execution_count": 26,
   "id": "3a35cee0-da35-4938-b223-2effad9323ff",
   "metadata": {},
   "outputs": [
    {
     "name": "stdout",
     "output_type": "stream",
     "text": [
      "[1 2 3 4]\n",
      "[ 40  80 120 160]\n",
      "[10. 10. 10. 10.]\n"
     ]
    },
    {
     "data": {
      "text/plain": [
       "np.int64(400)"
      ]
     },
     "execution_count": 26,
     "metadata": {},
     "output_type": "execute_result"
    }
   ],
   "source": [
    "a = np.array([10, 20, 30, 40])\n",
    "\n",
    "b = np.array(range(1,len(a)+1 ))\n",
    "print(b)\n",
    "print(4*a)\n",
    "\n",
    "print(a/b)\n",
    "\n",
    "np.sum(4*a)"
   ]
  },
  {
   "cell_type": "code",
   "execution_count": 52,
   "id": "cd95935b-fc11-4a04-b622-33ca02acc449",
   "metadata": {},
   "outputs": [
    {
     "data": {
      "text/plain": [
       "array([ 66, 109, 136, 114])"
      ]
     },
     "execution_count": 52,
     "metadata": {},
     "output_type": "execute_result"
    }
   ],
   "source": [
    "\n",
    "           \n",
    "compute_deriv_poly(2)"
   ]
  },
  {
   "cell_type": "code",
   "execution_count": 31,
   "id": "c748e08c-5d50-42c6-8876-83e0718f0a02",
   "metadata": {},
   "outputs": [
    {
     "data": {
      "text/plain": [
       "array([1, 2, 3, 4])"
      ]
     },
     "execution_count": 31,
     "metadata": {},
     "output_type": "execute_result"
    }
   ],
   "source": [
    "]"
   ]
  }
 ],
 "metadata": {
  "kernelspec": {
   "display_name": "Python 3 (ipykernel)",
   "language": "python",
   "name": "python3"
  },
  "language_info": {
   "codemirror_mode": {
    "name": "ipython",
    "version": 3
   },
   "file_extension": ".py",
   "mimetype": "text/x-python",
   "name": "python",
   "nbconvert_exporter": "python",
   "pygments_lexer": "ipython3",
   "version": "3.13.5"
  }
 },
 "nbformat": 4,
 "nbformat_minor": 5
}
