{
 "cells": [
  {
   "cell_type": "markdown",
   "id": "2197a4a6-deb7-40c8-8281-88f80601e133",
   "metadata": {},
   "source": [
    "# Hello world\n",
    "\n",
    "Matlab version\n",
    "\n",
    "\n",
    "## Background\n",
    "\n",
    "\"Hello World\" is a classic programming exercise, often considered the first step in learning a new programming language. It consists of constructing a minimal program which will output the words \"Hello World.\" If it runs without errors, this demonstrates that the software is installed correctly in the computing environment and that the user has been able to build a very simple program.\n",
    "\n",
    "## Starter code\n",
    "\n",
    "The two cells below contain starter code comprising a complete \"Hello World\" program. You can run this code to verify that your software installation has been successful.\n",
    "\n",
    "## Exercise\n",
    "\n",
    "As an exercise, you can write your own modified \"Hello World\" program. See instructions below, after the starter code.\n"
   ]
  },
  {
   "cell_type": "code",
   "execution_count": 14,
   "id": "4f8f23f1-a687-46e2-88bb-f111d7d6e98b",
   "metadata": {},
   "outputs": [],
   "source": [
    "%% Here we define three strings, each containing part of the \"hello world\" statement.\n",
    "%% It is not necessary to break things up in this way--here we have done it for fun and to demonstrate some additional characteristics of the language.\n",
    "\n",
    "\n",
    "firstword = \"Hello\";\n",
    "\n",
    "secondword = \"World\";\n",
    "\n",
    "finalpunctuation= \"!!!\";\n",
    "\n",
    "%% Strings in Matlab are offset using double quotes `\"`. Character arrays are offset using single quotes `'`.\n",
    "%% In practice, strings and character arrays behave exactly the same almost all of the time, so it might not be necessary to remember this distinction.\n",
    "\n",
    "%% A semi-colon at the end of the line `;` is used to suppress output in Matlab.\n",
    "%% If a line is not ended in a semi-colon, its contents will be output to the console."
   ]
  },
  {
   "cell_type": "code",
   "execution_count": 12,
   "id": "b5799e9c-ba3e-400e-801a-d139a6b47a76",
   "metadata": {},
   "outputs": [
    {
     "name": "stdout",
     "output_type": "stream",
     "text": [
      "Hello World!!!\n"
     ]
    }
   ],
   "source": [
    "%% In Matlab, strings can be concatenated using the `strcat()` function.\n",
    "%% The `disp()` function outputs strings to the console.\n",
    "\n",
    "disp(strcat(firstword,\" \",secondword,finalpunctuation))"
   ]
  },
  {
   "cell_type": "markdown",
   "id": "8d5f3cf0-3497-43a8-9b7e-72177beb18ef",
   "metadata": {},
   "source": [
    "## Exercise instructions\n",
    "\n",
    "Write a \"Hello World\" program similar to the above, but:\n",
    "  1. Split the message into 4 or more strings (instead of just 3, as above).\n",
    "  2. Change at least 1 word.\n",
    "  3. Include a line break in the final output (make the output appear on multiple lines).\n",
    "  4. Use single-quotes to define at least one of the strings.\n",
    "  5. Remove the semi-colon from the end of at least one of the lines.\n",
    "     "
   ]
  },
  {
   "cell_type": "code",
   "execution_count": null,
   "id": "69e5b8d1-4774-4bc8-a91c-2bfc64e70791",
   "metadata": {},
   "outputs": [],
   "source": []
  }
 ],
 "metadata": {
  "kernelspec": {
   "display_name": "MATLAB Kernel",
   "language": "matlab",
   "name": "jupyter_matlab_kernel"
  },
  "language_info": {
   "file_extension": ".m",
   "mimetype": "text/x-matlab",
   "name": "matlab"
  }
 },
 "nbformat": 4,
 "nbformat_minor": 5
}
