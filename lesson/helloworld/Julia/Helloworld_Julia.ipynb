{
 "cells": [
  {
   "cell_type": "markdown",
   "id": "2363579a-aa8a-4da0-8648-3f4099fd2a8f",
   "metadata": {},
   "source": [
    "# Hello world\n",
    "\n",
    "Julia version\n",
    "\n",
    "## Background\n",
    "\n",
    "\"Hello World\" is a classic programming exercise, often considered the first step in learning a new programming language. It consists of constructing a minimal program which will output the words \"Hello World.\" If it runs without errors, this demonstrates that the software is installed correctly in the computing environment and that the user has been able to build a very simple program.\n",
    "\n",
    "## Starter code\n",
    "\n",
    "The two cells below contain starter code comprising a complete \"Hello World\" program. You can run this code to verify that your software installation has been successful.\n",
    "\n",
    "## Exercise\n",
    "\n",
    "As an exercise, you can write your own modified \"Hello World\" program. See instructions below, after the starter code.\n"
   ]
  },
  {
   "cell_type": "code",
   "execution_count": 13,
   "id": "b99b2d8c-b510-40eb-868a-462879f890c4",
   "metadata": {},
   "outputs": [],
   "source": [
    "## Here we define three strings, each containing part of the \"hello world\" statement.\n",
    "## It is not necessary to break things up in this way--here we have done it for fun and to demonstrate some additional characteristics of the language.\n",
    "\n",
    "\n",
    "firstword = \"Hello\";\n",
    "\n",
    "secondword = \"World\";\n",
    "\n",
    "finalpunctuation = \"!!!\";\n",
    "\n",
    "## Strings in Julia are offset using single quotes `'`. \n",
    "## String literals, which mostly function the same as strings, are offset using double-quotes `\"` or triple-double-quotes `\"\"\"`.\n",
    "\n",
    "## A semi-colon at the end of the line `;` is used to suppress output in Julia.\n",
    "## Not every line that is missing a semi-colon `;` will be output--only the last one in a series of commands.\n"
   ]
  },
  {
   "cell_type": "code",
   "execution_count": 10,
   "id": "50d37f2f-822c-4450-9dfc-a652533f4a73",
   "metadata": {},
   "outputs": [
    {
     "name": "stdout",
     "output_type": "stream",
     "text": [
      "Hello World!!!"
     ]
    }
   ],
   "source": [
    "## In Julia, the `*` multiplication operator concatenates strings\n",
    "## The `print()` function outputs strings to the console.\n",
    "\n",
    "print(firstword*\" \"*secondword*finalpunctuation)"
   ]
  },
  {
   "cell_type": "markdown",
   "id": "bd1fc0d5-228a-470c-8661-010b976f6c14",
   "metadata": {},
   "source": [
    "## Exercise instructions\n",
    "\n",
    "Write a \"Hello World\" program similar to the above, but:\n",
    "  1. Split the message into 4 or more strings (instead of just 3, as above).\n",
    "  2. Change at least 1 word.\n",
    "  3. Include a line break in the final output (make the output appear on multiple lines).\n",
    "  4. Use single-quotes to define at least one of the strings.\n",
    "  5. Remove the semi-colon from the end of at least one of the lines.\n",
    "     "
   ]
  },
  {
   "cell_type": "code",
   "execution_count": null,
   "id": "c71ef99a-338a-4f57-9a02-93231b35fed3",
   "metadata": {},
   "outputs": [],
   "source": []
  }
 ],
 "metadata": {
  "kernelspec": {
   "display_name": "Julia 1.11.5",
   "language": "julia",
   "name": "julia-1.11"
  },
  "language_info": {
   "file_extension": ".jl",
   "mimetype": "application/julia",
   "name": "julia",
   "version": "1.11.5"
  }
 },
 "nbformat": 4,
 "nbformat_minor": 5
}
